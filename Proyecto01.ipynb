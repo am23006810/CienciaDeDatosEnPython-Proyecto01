{
 "cells": [
  {
   "cell_type": "markdown",
   "id": "7711eb25-d0f5-4570-92cb-839d25b44f2d",
   "metadata": {},
   "source": [
    "# Proyecto 01"
   ]
  },
  {
   "cell_type": "code",
   "execution_count": 40,
   "id": "530f7382-c4e1-4957-909c-9b5850b9bc2c",
   "metadata": {},
   "outputs": [],
   "source": [
    "import numpy as np\n",
    "import pandas as pd\n",
    "import seaborn as sns\n",
    "from matplotlib import pyplot as plt\n",
    "from sklearn.model_selection import train_test_split"
   ]
  },
  {
   "cell_type": "code",
   "execution_count": 3,
   "id": "0f4c426f-3050-4e99-ab8c-432cba553306",
   "metadata": {},
   "outputs": [],
   "source": [
    "proyecto_data = np.load('./data/proyecto_training_data.npy')"
   ]
  },
  {
   "cell_type": "code",
   "execution_count": 4,
   "id": "50500ef6-6707-4c54-bde8-615dd01667f9",
   "metadata": {},
   "outputs": [
    {
     "data": {
      "text/plain": [
       "array([[2.08500e+05, 7.00000e+00, 8.56000e+02, 8.00000e+00, 2.00300e+03,\n",
       "        6.50000e+01],\n",
       "       [1.81500e+05, 6.00000e+00, 1.26200e+03, 6.00000e+00, 1.97600e+03,\n",
       "        8.00000e+01],\n",
       "       [2.23500e+05, 7.00000e+00, 9.20000e+02, 6.00000e+00, 2.00100e+03,\n",
       "        6.80000e+01],\n",
       "       ...,\n",
       "       [2.66500e+05, 7.00000e+00, 1.18800e+03, 9.00000e+00, 1.94100e+03,\n",
       "        6.60000e+01],\n",
       "       [1.42125e+05, 5.00000e+00, 1.07800e+03, 5.00000e+00, 1.95000e+03,\n",
       "        6.80000e+01],\n",
       "       [1.47500e+05, 5.00000e+00, 1.25600e+03, 6.00000e+00, 1.96500e+03,\n",
       "        7.50000e+01]])"
      ]
     },
     "execution_count": 4,
     "metadata": {},
     "output_type": "execute_result"
    }
   ],
   "source": [
    "proyecto_data"
   ]
  },
  {
   "cell_type": "code",
   "execution_count": 5,
   "id": "7c0431ae-c82b-4ed7-a2c6-369c89ea79af",
   "metadata": {},
   "outputs": [
    {
     "data": {
      "text/plain": [
       "numpy.ndarray"
      ]
     },
     "execution_count": 5,
     "metadata": {},
     "output_type": "execute_result"
    }
   ],
   "source": [
    "type(proyecto_data)"
   ]
  },
  {
   "cell_type": "code",
   "execution_count": 11,
   "id": "6bf958f7-7e8f-44e7-92de-41c82acf2aa9",
   "metadata": {},
   "outputs": [],
   "source": [
    "data_train, data_test = train_test_split(proyecto_data, test_size=0.2)"
   ]
  },
  {
   "cell_type": "code",
   "execution_count": 12,
   "id": "9669989d-e25a-4aea-a43d-0991db0fe705",
   "metadata": {},
   "outputs": [
    {
     "data": {
      "text/plain": [
       "1168"
      ]
     },
     "execution_count": 12,
     "metadata": {},
     "output_type": "execute_result"
    }
   ],
   "source": [
    "len(data_train)"
   ]
  },
  {
   "cell_type": "code",
   "execution_count": 13,
   "id": "03b99bc8-8493-4a34-99c6-e6b1206b20d5",
   "metadata": {},
   "outputs": [
    {
     "data": {
      "text/plain": [
       "292"
      ]
     },
     "execution_count": 13,
     "metadata": {},
     "output_type": "execute_result"
    }
   ],
   "source": [
    "len(data_test)"
   ]
  },
  {
   "cell_type": "code",
   "execution_count": 16,
   "id": "b7ae3e18-f111-4f7e-ac63-f93cebc2e67e",
   "metadata": {},
   "outputs": [],
   "source": [
    "df_train = pd.DataFrame(data_train)\n",
    "df_test = pd.DataFrame(data_test)"
   ]
  },
  {
   "cell_type": "code",
   "execution_count": 17,
   "id": "3a62ca74-b5fc-4c27-834d-dd7e48ecae00",
   "metadata": {},
   "outputs": [
    {
     "data": {
      "text/html": [
       "<div>\n",
       "<style scoped>\n",
       "    .dataframe tbody tr th:only-of-type {\n",
       "        vertical-align: middle;\n",
       "    }\n",
       "\n",
       "    .dataframe tbody tr th {\n",
       "        vertical-align: top;\n",
       "    }\n",
       "\n",
       "    .dataframe thead th {\n",
       "        text-align: right;\n",
       "    }\n",
       "</style>\n",
       "<table border=\"1\" class=\"dataframe\">\n",
       "  <thead>\n",
       "    <tr style=\"text-align: right;\">\n",
       "      <th></th>\n",
       "      <th>0</th>\n",
       "      <th>1</th>\n",
       "      <th>2</th>\n",
       "      <th>3</th>\n",
       "      <th>4</th>\n",
       "      <th>5</th>\n",
       "    </tr>\n",
       "  </thead>\n",
       "  <tbody>\n",
       "    <tr>\n",
       "      <th>count</th>\n",
       "      <td>1168.000000</td>\n",
       "      <td>1168.000000</td>\n",
       "      <td>1168.000000</td>\n",
       "      <td>1168.000000</td>\n",
       "      <td>1168.000000</td>\n",
       "      <td>955.000000</td>\n",
       "    </tr>\n",
       "    <tr>\n",
       "      <th>mean</th>\n",
       "      <td>182259.994863</td>\n",
       "      <td>6.125000</td>\n",
       "      <td>1168.430651</td>\n",
       "      <td>6.536815</td>\n",
       "      <td>1971.895548</td>\n",
       "      <td>69.330890</td>\n",
       "    </tr>\n",
       "    <tr>\n",
       "      <th>std</th>\n",
       "      <td>82101.461325</td>\n",
       "      <td>1.394613</td>\n",
       "      <td>393.995901</td>\n",
       "      <td>1.638864</td>\n",
       "      <td>30.069689</td>\n",
       "      <td>24.296419</td>\n",
       "    </tr>\n",
       "    <tr>\n",
       "      <th>min</th>\n",
       "      <td>34900.000000</td>\n",
       "      <td>1.000000</td>\n",
       "      <td>334.000000</td>\n",
       "      <td>2.000000</td>\n",
       "      <td>1872.000000</td>\n",
       "      <td>21.000000</td>\n",
       "    </tr>\n",
       "    <tr>\n",
       "      <th>25%</th>\n",
       "      <td>129800.000000</td>\n",
       "      <td>5.000000</td>\n",
       "      <td>881.500000</td>\n",
       "      <td>5.000000</td>\n",
       "      <td>1954.000000</td>\n",
       "      <td>59.000000</td>\n",
       "    </tr>\n",
       "    <tr>\n",
       "      <th>50%</th>\n",
       "      <td>164500.000000</td>\n",
       "      <td>6.000000</td>\n",
       "      <td>1092.000000</td>\n",
       "      <td>6.000000</td>\n",
       "      <td>1974.000000</td>\n",
       "      <td>68.000000</td>\n",
       "    </tr>\n",
       "    <tr>\n",
       "      <th>75%</th>\n",
       "      <td>215000.000000</td>\n",
       "      <td>7.000000</td>\n",
       "      <td>1414.500000</td>\n",
       "      <td>7.000000</td>\n",
       "      <td>2001.000000</td>\n",
       "      <td>80.000000</td>\n",
       "    </tr>\n",
       "    <tr>\n",
       "      <th>max</th>\n",
       "      <td>755000.000000</td>\n",
       "      <td>10.000000</td>\n",
       "      <td>4692.000000</td>\n",
       "      <td>14.000000</td>\n",
       "      <td>2010.000000</td>\n",
       "      <td>313.000000</td>\n",
       "    </tr>\n",
       "  </tbody>\n",
       "</table>\n",
       "</div>"
      ],
      "text/plain": [
       "                   0            1            2            3            4  \\\n",
       "count    1168.000000  1168.000000  1168.000000  1168.000000  1168.000000   \n",
       "mean   182259.994863     6.125000  1168.430651     6.536815  1971.895548   \n",
       "std     82101.461325     1.394613   393.995901     1.638864    30.069689   \n",
       "min     34900.000000     1.000000   334.000000     2.000000  1872.000000   \n",
       "25%    129800.000000     5.000000   881.500000     5.000000  1954.000000   \n",
       "50%    164500.000000     6.000000  1092.000000     6.000000  1974.000000   \n",
       "75%    215000.000000     7.000000  1414.500000     7.000000  2001.000000   \n",
       "max    755000.000000    10.000000  4692.000000    14.000000  2010.000000   \n",
       "\n",
       "                5  \n",
       "count  955.000000  \n",
       "mean    69.330890  \n",
       "std     24.296419  \n",
       "min     21.000000  \n",
       "25%     59.000000  \n",
       "50%     68.000000  \n",
       "75%     80.000000  \n",
       "max    313.000000  "
      ]
     },
     "execution_count": 17,
     "metadata": {},
     "output_type": "execute_result"
    }
   ],
   "source": [
    "df_train.describe()"
   ]
  },
  {
   "cell_type": "code",
   "execution_count": 19,
   "id": "1ebfaeff-6136-48f1-9ee9-0d77c47e62e0",
   "metadata": {},
   "outputs": [
    {
     "name": "stdout",
     "output_type": "stream",
     "text": [
      "<class 'pandas.core.frame.DataFrame'>\n",
      "RangeIndex: 1168 entries, 0 to 1167\n",
      "Data columns (total 6 columns):\n",
      " #   Column  Non-Null Count  Dtype  \n",
      "---  ------  --------------  -----  \n",
      " 0   0       1168 non-null   float64\n",
      " 1   1       1168 non-null   float64\n",
      " 2   2       1168 non-null   float64\n",
      " 3   3       1168 non-null   float64\n",
      " 4   4       1168 non-null   float64\n",
      " 5   5       955 non-null    float64\n",
      "dtypes: float64(6)\n",
      "memory usage: 54.9 KB\n"
     ]
    }
   ],
   "source": [
    "df_train.info()"
   ]
  },
  {
   "cell_type": "code",
   "execution_count": 24,
   "id": "96bf3b92-0e78-43b3-bb1a-cd16baa85869",
   "metadata": {},
   "outputs": [
    {
     "data": {
      "text/plain": [
       "array([7.201e+05, 9.000e+00, 4.358e+03, 1.200e+01, 1.380e+02,       nan])"
      ]
     },
     "execution_count": 24,
     "metadata": {},
     "output_type": "execute_result"
    }
   ],
   "source": [
    "np.ptp(data_train, axis=0)"
   ]
  },
  {
   "cell_type": "code",
   "execution_count": 18,
   "id": "631a62c0-593b-440a-858b-2810afb5031c",
   "metadata": {},
   "outputs": [
    {
     "data": {
      "text/html": [
       "<div>\n",
       "<style scoped>\n",
       "    .dataframe tbody tr th:only-of-type {\n",
       "        vertical-align: middle;\n",
       "    }\n",
       "\n",
       "    .dataframe tbody tr th {\n",
       "        vertical-align: top;\n",
       "    }\n",
       "\n",
       "    .dataframe thead th {\n",
       "        text-align: right;\n",
       "    }\n",
       "</style>\n",
       "<table border=\"1\" class=\"dataframe\">\n",
       "  <thead>\n",
       "    <tr style=\"text-align: right;\">\n",
       "      <th></th>\n",
       "      <th>0</th>\n",
       "      <th>1</th>\n",
       "      <th>2</th>\n",
       "      <th>3</th>\n",
       "      <th>4</th>\n",
       "      <th>5</th>\n",
       "    </tr>\n",
       "  </thead>\n",
       "  <tbody>\n",
       "    <tr>\n",
       "      <th>count</th>\n",
       "      <td>292.000000</td>\n",
       "      <td>292.000000</td>\n",
       "      <td>292.000000</td>\n",
       "      <td>292.000000</td>\n",
       "      <td>292.000000</td>\n",
       "      <td>246.000000</td>\n",
       "    </tr>\n",
       "    <tr>\n",
       "      <th>mean</th>\n",
       "      <td>175566.000000</td>\n",
       "      <td>5.996575</td>\n",
       "      <td>1139.410959</td>\n",
       "      <td>6.441781</td>\n",
       "      <td>1968.756849</td>\n",
       "      <td>72.841463</td>\n",
       "    </tr>\n",
       "    <tr>\n",
       "      <th>std</th>\n",
       "      <td>67633.165732</td>\n",
       "      <td>1.332899</td>\n",
       "      <td>355.101741</td>\n",
       "      <td>1.570793</td>\n",
       "      <td>30.653576</td>\n",
       "      <td>24.085462</td>\n",
       "    </tr>\n",
       "    <tr>\n",
       "      <th>min</th>\n",
       "      <td>55000.000000</td>\n",
       "      <td>3.000000</td>\n",
       "      <td>372.000000</td>\n",
       "      <td>3.000000</td>\n",
       "      <td>1880.000000</td>\n",
       "      <td>21.000000</td>\n",
       "    </tr>\n",
       "    <tr>\n",
       "      <th>25%</th>\n",
       "      <td>131300.000000</td>\n",
       "      <td>5.000000</td>\n",
       "      <td>892.500000</td>\n",
       "      <td>5.000000</td>\n",
       "      <td>1950.750000</td>\n",
       "      <td>60.000000</td>\n",
       "    </tr>\n",
       "    <tr>\n",
       "      <th>50%</th>\n",
       "      <td>160000.000000</td>\n",
       "      <td>6.000000</td>\n",
       "      <td>1058.500000</td>\n",
       "      <td>6.000000</td>\n",
       "      <td>1969.000000</td>\n",
       "      <td>70.000000</td>\n",
       "    </tr>\n",
       "    <tr>\n",
       "      <th>75%</th>\n",
       "      <td>204925.000000</td>\n",
       "      <td>7.000000</td>\n",
       "      <td>1344.250000</td>\n",
       "      <td>7.000000</td>\n",
       "      <td>1999.000000</td>\n",
       "      <td>80.000000</td>\n",
       "    </tr>\n",
       "    <tr>\n",
       "      <th>max</th>\n",
       "      <td>465000.000000</td>\n",
       "      <td>10.000000</td>\n",
       "      <td>3138.000000</td>\n",
       "      <td>12.000000</td>\n",
       "      <td>2009.000000</td>\n",
       "      <td>174.000000</td>\n",
       "    </tr>\n",
       "  </tbody>\n",
       "</table>\n",
       "</div>"
      ],
      "text/plain": [
       "                   0           1            2           3            4  \\\n",
       "count     292.000000  292.000000   292.000000  292.000000   292.000000   \n",
       "mean   175566.000000    5.996575  1139.410959    6.441781  1968.756849   \n",
       "std     67633.165732    1.332899   355.101741    1.570793    30.653576   \n",
       "min     55000.000000    3.000000   372.000000    3.000000  1880.000000   \n",
       "25%    131300.000000    5.000000   892.500000    5.000000  1950.750000   \n",
       "50%    160000.000000    6.000000  1058.500000    6.000000  1969.000000   \n",
       "75%    204925.000000    7.000000  1344.250000    7.000000  1999.000000   \n",
       "max    465000.000000   10.000000  3138.000000   12.000000  2009.000000   \n",
       "\n",
       "                5  \n",
       "count  246.000000  \n",
       "mean    72.841463  \n",
       "std     24.085462  \n",
       "min     21.000000  \n",
       "25%     60.000000  \n",
       "50%     70.000000  \n",
       "75%     80.000000  \n",
       "max    174.000000  "
      ]
     },
     "execution_count": 18,
     "metadata": {},
     "output_type": "execute_result"
    }
   ],
   "source": [
    "df_test.describe()"
   ]
  },
  {
   "cell_type": "code",
   "execution_count": 20,
   "id": "f221dd4e-a0b9-475e-ba0d-12b569a07a7a",
   "metadata": {},
   "outputs": [
    {
     "name": "stdout",
     "output_type": "stream",
     "text": [
      "<class 'pandas.core.frame.DataFrame'>\n",
      "RangeIndex: 292 entries, 0 to 291\n",
      "Data columns (total 6 columns):\n",
      " #   Column  Non-Null Count  Dtype  \n",
      "---  ------  --------------  -----  \n",
      " 0   0       292 non-null    float64\n",
      " 1   1       292 non-null    float64\n",
      " 2   2       292 non-null    float64\n",
      " 3   3       292 non-null    float64\n",
      " 4   4       292 non-null    float64\n",
      " 5   5       246 non-null    float64\n",
      "dtypes: float64(6)\n",
      "memory usage: 13.8 KB\n"
     ]
    }
   ],
   "source": [
    "df_test.info()"
   ]
  },
  {
   "cell_type": "code",
   "execution_count": 25,
   "id": "a42bfdf5-fd73-494a-b64f-b21e829128d5",
   "metadata": {},
   "outputs": [
    {
     "data": {
      "text/plain": [
       "array([4.100e+05, 7.000e+00, 2.766e+03, 9.000e+00, 1.290e+02,       nan])"
      ]
     },
     "execution_count": 25,
     "metadata": {},
     "output_type": "execute_result"
    }
   ],
   "source": [
    "np.ptp(data_test, axis=0)"
   ]
  },
  {
   "cell_type": "code",
   "execution_count": 59,
   "id": "303a5037-0d09-4b4d-93bf-ebd4de139d53",
   "metadata": {},
   "outputs": [
    {
     "data": {
      "text/plain": [
       "<Axes: xlabel='4', ylabel='Count'>"
      ]
     },
     "execution_count": 59,
     "metadata": {},
     "output_type": "execute_result"
    },
    {
     "data": {
      "image/png": "[encoded data removed]",
      "text/plain": [
       "<Figure size 1500x1000 with 6 Axes>"
      ]
     },
     "metadata": {},
     "output_type": "display_data"
    }
   ],
   "source": [
    "fig, axes = plt.subplots(3, 2, figsize=(15, 10))\n",
    "sns.histplot(data=df_train[0], ax=axes[0,0])\n",
    "sns.histplot(data=df_train[1], ax=axes[0,1])\n",
    "sns.histplot(data=df_train[2], ax=axes[1,0])\n",
    "sns.histplot(data=df_train[3], ax=axes[1,1])\n",
    "sns.histplot(data=df_train[4], ax=axes[2,0])\n",
    "sns.histplot(data=df_train[4], ax=axes[2,1])"
   ]
  },
  {
   "cell_type": "code",
   "execution_count": null,
   "id": "0ad3d2b4-5798-4a9d-9585-992ff9261990",
   "metadata": {},
   "outputs": [],
   "source": []
  }
 ],
 "metadata": {
  "kernelspec": {
   "display_name": "default:Python",
   "language": "python",
   "name": "conda-env-default-py"
  },
  "language_info": {
   "codemirror_mode": {
    "name": "ipython",
    "version": 3
   },
   "file_extension": ".py",
   "mimetype": "text/x-python",
   "name": "python",
   "nbconvert_exporter": "python",
   "pygments_lexer": "ipython3",
   "version": "3.9.13"
  }
 },
 "nbformat": 4,
 "nbformat_minor": 5
}
